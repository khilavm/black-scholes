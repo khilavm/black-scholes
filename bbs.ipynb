{
 "cells": [
  {
   "cell_type": "markdown",
   "id": "8669e0c9",
   "metadata": {},
   "source": [
    "<h1>Breaking Black-Scholes</h1>\n",
    "    \n",
    "In this notebook, we will discuss some erroneous assumptions in different derivations of the Black-Scholes-Merton options pricing model, henceforth referred to as BSM. First, we analyse the derivation of the BSM formula from a multi-step binomial tree. Then we look at the dynamic hedging argument of deriving the Black-Scholes differential equation."
   ]
  },
  {
   "cell_type": "markdown",
   "id": "e575069c",
   "metadata": {},
   "source": [
    "<h2>1. Using a binomial tree</h2>\n",
    "\n",
    "We will follow the derivation of a Eruopean call option on a non-dividend paying stock given by Hull in [1] as an appendix to chapter 13. The procedure will not be described not in full but only schematically in order to focus on the assumptions.<br>\n",
    "<br>\n",
    "Working backwards from a payoff of the option, out of $n$ steps for the underlying, we select $k$ upward movements of percentage change $u$ with probability $p$ and $n-k$ downwards movements of percentage change $d$ with probability $1-p$. Discounted at the risk free rate $r$ for total time $T$, the call's price is given by the binomial sum<br>\n",
    "\n",
    "$$\n",
    "c=e^{-rt}\\sum_{k=0}^{n}\\binom{n}{k}p^k(1-p)^{n-k}(S_0u^kd^{n-k}-K)^+\n",
    "$$\n",
    "\n",
    "Here, for some $A$, $A^+=0$ if $A>0$ and $A=0$ otherwise.<br>\n",
    "\n",
    "This is a finite sum which must be calculated numerically. But we need to know values of $p$, $u$, and $d$. <br>\n",
    "\n",
    "Now, $p=\\frac{e^{rT}-d}{u-d}$. This is valid only under a *risk-neutral* valuation, where the expected returns on both the stock and the option are the risk-free rate. $p$ is *interpreted* as a probability of an up movement under this risk-neutral framework."
   ]
  },
  {
   "cell_type": "markdown",
   "id": "991ec8f0",
   "metadata": {},
   "source": [
    "<h3>Issue 1: Volatility matching</h3>\n",
    "\n",
    "We do not know a priori what values $u$ and $d$ should take. They are set by a method called volatility matching, which was introduced by Cox, Ross and Rubinstein in [2]. They wanted to match the mean and variance of the stock's price obtained from the binomial tree model to that of the \"actual\" price in the limit $n \\rightarrow \\infty$. This \"actual variance\" is taken to be $\\sigma^2\\Delta t$, where $\\Delta t$ is a small time interval and $\\sigma$ is the volatility of the price. This $\\sigma^2\\Delta t$ is the square of the standard deviation of percentage price changes when they are assumed to follow a Wiener process or Brownian motion. Them fluctuating around a **zero** mean value is the reason this quantity is also referred to as the variance of the stock price.<br>\n",
    "\n",
    "The first problem here is the limit $n \\rightarrow \\infty$, where the length of time intervals becomes vanishingly small. Such a situation is clearly unrealistic and is taken only to simplify calculations.<br>\n",
    "\n",
    "Next, by matching the variances between the binomial tree model and the Brownian motion process as in [1], we get $u=e^{\\sigma \\sqrt{\\Delta t}}$ and $d=e^{-\\sigma \\sqrt{\\Delta t}}$. This is obtained after neglecting higher order terms in $\\Delta t$ in the Taylor series expansions of $e^{\\sigma \\sqrt{\\Delta t}}$ and $e^{r \\Delta t}$. So, the validity of these values must be questioned in the real world cases of finite number of trading times and finitely large trading intervals. Later in the same text, Hull uses these equations when $\\Delta t=1$ for analysing a put option whose life is 2 years. That's hardly small!"
   ]
  },
  {
   "cell_type": "markdown",
   "id": "d697c58a",
   "metadata": {},
   "source": [
    "<h3>Issue 2: $n \\rightarrow \\infty$</h3>\n",
    "\n",
    "Taking the limit of infinite number of steps in the tree allows us to approximate the binomial distribution as a Gaussian, which makes calculations tractable. However this is practically infeasible as we never have a theoretically infinite number of transactions in practice. "
   ]
  },
  {
   "cell_type": "markdown",
   "id": "4d887c9d",
   "metadata": {},
   "source": [
    "<h2>2. Using stochastic calculus</h2>\n",
    "\n",
    "The approach used by Black and Scholes in their paper [3] was to create a portfolio of a short call option $C$ and a long position in $\\Delta=\\frac{\\partial C}{\\partial S}$ shares of the underlying $S$. In a small time interval $\\Delta t$, the chance in this portfolio is given by \n",
    "\n",
    "$$\n",
    "\\Delta \\Pi = \\Delta C + \\frac{\\partial C}{\\partial S} \\Delta S\n",
    "$$\n",
    "\n",
    "Assuming that the underlying price following a Geometric Brownian motion process and using Ito's lemma for the change in the call price, we can eliminate the dependence on the expected return, or the drift, $\\mu$. Thus, the profit made by the portfolio in a short amount of time must be riskless, since the stochastic term has been eliminated, and is given by\n",
    "\n",
    "$$\n",
    "\\frac{\\partial C}{\\partial t} + \\frac{1}{2}\\sigma ^2 S^2 \\frac{\\partial ^2 C}{\\partial ^2 S}\n",
    "$$ \n",
    "\n",
    "<h3>Issue 1: Dynamic hedging</h3>\n",
    "    \n",
    "Now, this differential equation requires *continuous* dynamic hedging, which is impossible in practice, and this makes the trader pick up risk in between portfolio rebalances [4]. </br>\n",
    "\n",
    "<h3>Issue 2: Volatility smile</h3>\n",
    "\n",
    "The volatility $\\sigma$ is assumed constant here. It has been observed the implied volatility usually exhibits a \"smile\", i.e., out-of-the-money puts trade at at higher implied volatility than out-of-the-money calls [5]. The term structure of option volatility is also never flat. Thus, when we make a 3D plot of implied volatility as a function of strike price and time, we obtain an uneven surface. The Black-Scholes model requires a flat volatility surface. </br>\n",
    "\n",
    "<h3>Issue 3: Distribution of price changes</h3>\n",
    "\n",
    "The lognormal distribution of price changes is a restrictive assumption with tractability being its chief advantage. Asset price distributions have been shown to be fat-tailed [6]. Fat-tailed distributions result in many other problems. In particular, the negligence of orders higher than $\\Delta S ^2$, which can be safely assumed for a Gaussian, cannot be taken for granted. Under expectation, we need all moments of the distribution to exist for the Black-Scholes model to work [7][8].\n",
    "\n",
    "<h3>Issue 4: Jumps</h3>\n",
    "\n",
    "The model as is doesn't take into account market discontinuities, especially jumps in security prices. Merton [9] describes a so called jump-diffusion process where the continuous time geometric Brownian motion mentioned earlier is added to a stochastic process of jumps. This process is assumed to be Poisson, i.e., jumps are taken to arrive as a Poisson process in an infinitesimally small time period. Again, the Poisson distribution has all finite moments and hence this analysis is not amenable to the existence of fat-tailed price changes."
   ]
  },
  {
   "cell_type": "markdown",
   "id": "15c7d0a3-87cb-46b3-9751-fe0db6bdcc76",
   "metadata": {},
   "source": [
    "<h2>References</h2>\n",
    "\n",
    "1. Hull, J. C. (2015). Options, futures, and other derivatives. Pearson Education.\n",
    "2. Cox, J. C., Ross, S. A., & Rubinstein, M. (1979). Option pricing: A simplified approach. Journal of financial Economics, 7(3), 229-263.\n",
    "3. Black, F., & Scholes, M. (1973). The pricing of options and corporate liabilities. Journal of political economy, 81(3), 637-654.\n",
    "4. Derman*, E., & Taleb, N. N. (2005). The illusions of dynamic replication. Quantitative finance, 5(4), 323-326.\n",
    "5. Derman, E., & Kani, I. (1994). Riding on a smile. Risk, 7(2), 32-39.\n",
    "6. Mandelbrot, B., & Hudson, R. L. (2007). The Misbehavior of Markets: A fractal view of financial turbulence. Basic books.\n",
    "7. Haug, E. G., & Taleb, N. N. (2011). Option traders use (very) sophisticated heuristics, never the Black–Scholes–Merton formula. Journal of Economic Behavior & Organization, 77(2), 97-106.\n",
    "8. Taleb, N. N. (2020). Statistical consequences of fat tails: Real world preasymptotics, epistemology, and applications. arXiv preprint arXiv:2001.10488.\n",
    "9. Merton, R. C. (1976). Option pricing when underlying stock returns are discontinuous. Journal of financial economics, 3(1-2), 125-144.\n"
   ]
  }
 ],
 "metadata": {
  "kernelspec": {
   "display_name": "Python 3 (ipykernel)",
   "language": "python",
   "name": "python3"
  },
  "language_info": {
   "codemirror_mode": {
    "name": "ipython",
    "version": 3
   },
   "file_extension": ".py",
   "mimetype": "text/x-python",
   "name": "python",
   "nbconvert_exporter": "python",
   "pygments_lexer": "ipython3",
   "version": "3.12.0"
  }
 },
 "nbformat": 4,
 "nbformat_minor": 5
}
